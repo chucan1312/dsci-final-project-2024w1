{
 "cells": [
  {
   "cell_type": "markdown",
   "id": "84dd1f26-4f1c-4ddb-8202-77e2927b0fd3",
   "metadata": {},
   "source": [
    "# Introduction"
   ]
  },
  {
   "cell_type": "markdown",
   "id": "cbc04a6d-7e7c-415a-9e25-ec3e38abfae6",
   "metadata": {},
   "source": [
    "This group project aims to predict the usage of a video game research server by analyzing which types of players are most likely to generate large amounts of data. Specifically, the goal is to answer the proposed question: **Can experience level can predict the total number of hours a player is likely to complete in a month?** This research will be conducted within the context of a Minecraft server developed by the Pacific Laboratory for Artificial Intelligence (PLAI), a research group within the Department of Computer Science at the University of British Columbia. The team's research focuses on developing a model of embodied AI that can realistically interact with real-time players. To support this, the team has set up a Minecraft server with the goal of collecting 10,000 hours of multiplayer gameplay. The data will be used to train AGI-like agents capable of responding appropriately in video and audio perceptual environments. To ensure the success of this project, the team needs to target their recruitment efforts effectively, which is where the analysis of this project will come forth."
   ]
  },
  {
   "cell_type": "code",
   "execution_count": 29,
   "id": "d815f025-763e-4635-9646-e8109319bf7f",
   "metadata": {
    "vscode": {
     "languageId": "r"
    }
   },
   "outputs": [],
   "source": [
    "library(tidyverse)\n",
    "library(repr)\n",
    "library(tidymodels)\n",
    "options(repr.matrix.max.rows = 9)\n",
    "library(RColorBrewer)"
   ]
  },
  {
   "cell_type": "code",
   "execution_count": 30,
   "id": "8e62ff1a-fd42-4351-81e7-978b5b42834d",
   "metadata": {
    "vscode": {
     "languageId": "r"
    }
   },
   "outputs": [
    {
     "name": "stderr",
     "output_type": "stream",
     "text": [
      "\u001b[1mRows: \u001b[22m\u001b[34m196\u001b[39m \u001b[1mColumns: \u001b[22m\u001b[34m9\u001b[39m\n",
      "\u001b[36m──\u001b[39m \u001b[1mColumn specification\u001b[22m \u001b[36m────────────────────────────────────────────────────────\u001b[39m\n",
      "\u001b[1mDelimiter:\u001b[22m \",\"\n",
      "\u001b[31mchr\u001b[39m (4): experience, hashedEmail, name, gender\n",
      "\u001b[32mdbl\u001b[39m (2): played_hours, age\n",
      "\u001b[33mlgl\u001b[39m (3): subscribe, individualId, organizationName\n",
      "\n",
      "\u001b[36mℹ\u001b[39m Use `spec()` to retrieve the full column specification for this data.\n",
      "\u001b[36mℹ\u001b[39m Specify the column types or set `show_col_types = FALSE` to quiet this message.\n"
     ]
    },
    {
     "data": {
      "text/html": [
       "<table class=\"dataframe\">\n",
       "<caption>A spec_tbl_df: 196 × 9</caption>\n",
       "<thead>\n",
       "\t<tr><th scope=col>experience</th><th scope=col>subscribe</th><th scope=col>hashedEmail</th><th scope=col>played_hours</th><th scope=col>name</th><th scope=col>gender</th><th scope=col>age</th><th scope=col>individualId</th><th scope=col>organizationName</th></tr>\n",
       "\t<tr><th scope=col>&lt;chr&gt;</th><th scope=col>&lt;lgl&gt;</th><th scope=col>&lt;chr&gt;</th><th scope=col>&lt;dbl&gt;</th><th scope=col>&lt;chr&gt;</th><th scope=col>&lt;chr&gt;</th><th scope=col>&lt;dbl&gt;</th><th scope=col>&lt;lgl&gt;</th><th scope=col>&lt;lgl&gt;</th></tr>\n",
       "</thead>\n",
       "<tbody>\n",
       "\t<tr><td>Pro    </td><td> TRUE</td><td>f6daba428a5e19a3d47574858c13550499be23603422e6a0ee9728f8b53e192d</td><td>30.3</td><td>Morgan   </td><td>Male  </td><td> 9</td><td>NA</td><td>NA</td></tr>\n",
       "\t<tr><td>Veteran</td><td> TRUE</td><td>f3c813577c458ba0dfef80996f8f32c93b6e8af1fa939732842f2312358a88e9</td><td> 3.8</td><td>Christian</td><td>Male  </td><td>17</td><td>NA</td><td>NA</td></tr>\n",
       "\t<tr><td>Veteran</td><td>FALSE</td><td>b674dd7ee0d24096d1c019615ce4d12b20fcbff12d79d3c5a9d2118eb7ccbb28</td><td> 0.0</td><td>Blake    </td><td>Male  </td><td>17</td><td>NA</td><td>NA</td></tr>\n",
       "\t<tr><td>Amateur</td><td> TRUE</td><td>23fe711e0e3b77f1da7aa221ab1192afe21648d47d2b4fa7a5a659ff443a0eb5</td><td> 0.7</td><td>Flora    </td><td>Female</td><td>21</td><td>NA</td><td>NA</td></tr>\n",
       "\t<tr><td>Regular</td><td> TRUE</td><td>7dc01f10bf20671ecfccdac23812b1b415acd42c2147cb0af4d48fcce2420f3e</td><td> 0.1</td><td>Kylie    </td><td>Male  </td><td>21</td><td>NA</td><td>NA</td></tr>\n",
       "\t<tr><td>⋮</td><td>⋮</td><td>⋮</td><td>⋮</td><td>⋮</td><td>⋮</td><td>⋮</td><td>⋮</td><td>⋮</td></tr>\n",
       "\t<tr><td>Veteran</td><td>FALSE</td><td>71453e425f07d10da4fa2b349c83e73ccdf0fb3312f778b35c5802c3292c87bd</td><td>0.3</td><td>Pascal</td><td>Male             </td><td>22</td><td>NA</td><td>NA</td></tr>\n",
       "\t<tr><td>Amateur</td><td>FALSE</td><td>d572f391d452b76ea2d7e5e53a3d38bfd7499c7399db299bd4fedb06a46ad5bb</td><td>0.0</td><td>Dylan </td><td>Prefer not to say</td><td>17</td><td>NA</td><td>NA</td></tr>\n",
       "\t<tr><td>Amateur</td><td>FALSE</td><td>f19e136ddde68f365afc860c725ccff54307dedd13968e896a9f890c40aea436</td><td>2.3</td><td>Harlow</td><td>Male             </td><td>17</td><td>NA</td><td>NA</td></tr>\n",
       "\t<tr><td>Pro    </td><td> TRUE</td><td>d9473710057f7d42f36570f0be83817a4eea614029ff90cf50d8889cdd729d11</td><td>0.2</td><td>Ahmed </td><td>Other            </td><td>91</td><td>NA</td><td>NA</td></tr>\n",
       "</tbody>\n",
       "</table>\n"
      ],
      "text/latex": [
       "A spec\\_tbl\\_df: 196 × 9\n",
       "\\begin{tabular}{lllllllll}\n",
       " experience & subscribe & hashedEmail & played\\_hours & name & gender & age & individualId & organizationName\\\\\n",
       " <chr> & <lgl> & <chr> & <dbl> & <chr> & <chr> & <dbl> & <lgl> & <lgl>\\\\\n",
       "\\hline\n",
       "\t Pro     &  TRUE & f6daba428a5e19a3d47574858c13550499be23603422e6a0ee9728f8b53e192d & 30.3 & Morgan    & Male   &  9 & NA & NA\\\\\n",
       "\t Veteran &  TRUE & f3c813577c458ba0dfef80996f8f32c93b6e8af1fa939732842f2312358a88e9 &  3.8 & Christian & Male   & 17 & NA & NA\\\\\n",
       "\t Veteran & FALSE & b674dd7ee0d24096d1c019615ce4d12b20fcbff12d79d3c5a9d2118eb7ccbb28 &  0.0 & Blake     & Male   & 17 & NA & NA\\\\\n",
       "\t Amateur &  TRUE & 23fe711e0e3b77f1da7aa221ab1192afe21648d47d2b4fa7a5a659ff443a0eb5 &  0.7 & Flora     & Female & 21 & NA & NA\\\\\n",
       "\t Regular &  TRUE & 7dc01f10bf20671ecfccdac23812b1b415acd42c2147cb0af4d48fcce2420f3e &  0.1 & Kylie     & Male   & 21 & NA & NA\\\\\n",
       "\t ⋮ & ⋮ & ⋮ & ⋮ & ⋮ & ⋮ & ⋮ & ⋮ & ⋮\\\\\n",
       "\t Veteran & FALSE & 71453e425f07d10da4fa2b349c83e73ccdf0fb3312f778b35c5802c3292c87bd & 0.3 & Pascal & Male              & 22 & NA & NA\\\\\n",
       "\t Amateur & FALSE & d572f391d452b76ea2d7e5e53a3d38bfd7499c7399db299bd4fedb06a46ad5bb & 0.0 & Dylan  & Prefer not to say & 17 & NA & NA\\\\\n",
       "\t Amateur & FALSE & f19e136ddde68f365afc860c725ccff54307dedd13968e896a9f890c40aea436 & 2.3 & Harlow & Male              & 17 & NA & NA\\\\\n",
       "\t Pro     &  TRUE & d9473710057f7d42f36570f0be83817a4eea614029ff90cf50d8889cdd729d11 & 0.2 & Ahmed  & Other             & 91 & NA & NA\\\\\n",
       "\\end{tabular}\n"
      ],
      "text/markdown": [
       "\n",
       "A spec_tbl_df: 196 × 9\n",
       "\n",
       "| experience &lt;chr&gt; | subscribe &lt;lgl&gt; | hashedEmail &lt;chr&gt; | played_hours &lt;dbl&gt; | name &lt;chr&gt; | gender &lt;chr&gt; | age &lt;dbl&gt; | individualId &lt;lgl&gt; | organizationName &lt;lgl&gt; |\n",
       "|---|---|---|---|---|---|---|---|---|\n",
       "| Pro     |  TRUE | f6daba428a5e19a3d47574858c13550499be23603422e6a0ee9728f8b53e192d | 30.3 | Morgan    | Male   |  9 | NA | NA |\n",
       "| Veteran |  TRUE | f3c813577c458ba0dfef80996f8f32c93b6e8af1fa939732842f2312358a88e9 |  3.8 | Christian | Male   | 17 | NA | NA |\n",
       "| Veteran | FALSE | b674dd7ee0d24096d1c019615ce4d12b20fcbff12d79d3c5a9d2118eb7ccbb28 |  0.0 | Blake     | Male   | 17 | NA | NA |\n",
       "| Amateur |  TRUE | 23fe711e0e3b77f1da7aa221ab1192afe21648d47d2b4fa7a5a659ff443a0eb5 |  0.7 | Flora     | Female | 21 | NA | NA |\n",
       "| Regular |  TRUE | 7dc01f10bf20671ecfccdac23812b1b415acd42c2147cb0af4d48fcce2420f3e |  0.1 | Kylie     | Male   | 21 | NA | NA |\n",
       "| ⋮ | ⋮ | ⋮ | ⋮ | ⋮ | ⋮ | ⋮ | ⋮ | ⋮ |\n",
       "| Veteran | FALSE | 71453e425f07d10da4fa2b349c83e73ccdf0fb3312f778b35c5802c3292c87bd | 0.3 | Pascal | Male              | 22 | NA | NA |\n",
       "| Amateur | FALSE | d572f391d452b76ea2d7e5e53a3d38bfd7499c7399db299bd4fedb06a46ad5bb | 0.0 | Dylan  | Prefer not to say | 17 | NA | NA |\n",
       "| Amateur | FALSE | f19e136ddde68f365afc860c725ccff54307dedd13968e896a9f890c40aea436 | 2.3 | Harlow | Male              | 17 | NA | NA |\n",
       "| Pro     |  TRUE | d9473710057f7d42f36570f0be83817a4eea614029ff90cf50d8889cdd729d11 | 0.2 | Ahmed  | Other             | 91 | NA | NA |\n",
       "\n"
      ],
      "text/plain": [
       "    experience subscribe\n",
       "1   Pro         TRUE    \n",
       "2   Veteran     TRUE    \n",
       "3   Veteran    FALSE    \n",
       "4   Amateur     TRUE    \n",
       "5   Regular     TRUE    \n",
       "⋮   ⋮          ⋮        \n",
       "193 Veteran    FALSE    \n",
       "194 Amateur    FALSE    \n",
       "195 Amateur    FALSE    \n",
       "196 Pro         TRUE    \n",
       "    hashedEmail                                                     \n",
       "1   f6daba428a5e19a3d47574858c13550499be23603422e6a0ee9728f8b53e192d\n",
       "2   f3c813577c458ba0dfef80996f8f32c93b6e8af1fa939732842f2312358a88e9\n",
       "3   b674dd7ee0d24096d1c019615ce4d12b20fcbff12d79d3c5a9d2118eb7ccbb28\n",
       "4   23fe711e0e3b77f1da7aa221ab1192afe21648d47d2b4fa7a5a659ff443a0eb5\n",
       "5   7dc01f10bf20671ecfccdac23812b1b415acd42c2147cb0af4d48fcce2420f3e\n",
       "⋮   ⋮                                                               \n",
       "193 71453e425f07d10da4fa2b349c83e73ccdf0fb3312f778b35c5802c3292c87bd\n",
       "194 d572f391d452b76ea2d7e5e53a3d38bfd7499c7399db299bd4fedb06a46ad5bb\n",
       "195 f19e136ddde68f365afc860c725ccff54307dedd13968e896a9f890c40aea436\n",
       "196 d9473710057f7d42f36570f0be83817a4eea614029ff90cf50d8889cdd729d11\n",
       "    played_hours name      gender            age individualId organizationName\n",
       "1   30.3         Morgan    Male               9  NA           NA              \n",
       "2    3.8         Christian Male              17  NA           NA              \n",
       "3    0.0         Blake     Male              17  NA           NA              \n",
       "4    0.7         Flora     Female            21  NA           NA              \n",
       "5    0.1         Kylie     Male              21  NA           NA              \n",
       "⋮   ⋮            ⋮         ⋮                 ⋮   ⋮            ⋮               \n",
       "193 0.3          Pascal    Male              22  NA           NA              \n",
       "194 0.0          Dylan     Prefer not to say 17  NA           NA              \n",
       "195 2.3          Harlow    Male              17  NA           NA              \n",
       "196 0.2          Ahmed     Other             91  NA           NA              "
      ]
     },
     "metadata": {},
     "output_type": "display_data"
    },
    {
     "name": "stderr",
     "output_type": "stream",
     "text": [
      "\u001b[1mRows: \u001b[22m\u001b[34m1535\u001b[39m \u001b[1mColumns: \u001b[22m\u001b[34m5\u001b[39m\n",
      "\u001b[36m──\u001b[39m \u001b[1mColumn specification\u001b[22m \u001b[36m────────────────────────────────────────────────────────\u001b[39m\n",
      "\u001b[1mDelimiter:\u001b[22m \",\"\n",
      "\u001b[31mchr\u001b[39m (3): hashedEmail, start_time, end_time\n",
      "\u001b[32mdbl\u001b[39m (2): original_start_time, original_end_time\n",
      "\n",
      "\u001b[36mℹ\u001b[39m Use `spec()` to retrieve the full column specification for this data.\n",
      "\u001b[36mℹ\u001b[39m Specify the column types or set `show_col_types = FALSE` to quiet this message.\n"
     ]
    },
    {
     "data": {
      "text/html": [
       "<table class=\"dataframe\">\n",
       "<caption>A spec_tbl_df: 1535 × 5</caption>\n",
       "<thead>\n",
       "\t<tr><th scope=col>hashedEmail</th><th scope=col>start_time</th><th scope=col>end_time</th><th scope=col>original_start_time</th><th scope=col>original_end_time</th></tr>\n",
       "\t<tr><th scope=col>&lt;chr&gt;</th><th scope=col>&lt;chr&gt;</th><th scope=col>&lt;chr&gt;</th><th scope=col>&lt;dbl&gt;</th><th scope=col>&lt;dbl&gt;</th></tr>\n",
       "</thead>\n",
       "<tbody>\n",
       "\t<tr><td>bfce39c89d6549f2bb94d8064d3ce69dc3d7e72b38f431d8aa0c4bf95ccee6bf</td><td>30/06/2024 18:12</td><td>30/06/2024 18:24</td><td>1.71977e+12</td><td>1.71977e+12</td></tr>\n",
       "\t<tr><td>36d9cbb4c6bc0c1a6911436d2da0d09ec625e43e6552f575d4acc9cf487c4686</td><td>17/06/2024 23:33</td><td>17/06/2024 23:46</td><td>1.71867e+12</td><td>1.71867e+12</td></tr>\n",
       "\t<tr><td>f8f5477f5a2e53616ae37421b1c660b971192bd8ff77e3398304c7ae42581fdc</td><td>25/07/2024 17:34</td><td>25/07/2024 17:57</td><td>1.72193e+12</td><td>1.72193e+12</td></tr>\n",
       "\t<tr><td>bfce39c89d6549f2bb94d8064d3ce69dc3d7e72b38f431d8aa0c4bf95ccee6bf</td><td>25/07/2024 03:22</td><td>25/07/2024 03:58</td><td>1.72188e+12</td><td>1.72188e+12</td></tr>\n",
       "\t<tr><td>36d9cbb4c6bc0c1a6911436d2da0d09ec625e43e6552f575d4acc9cf487c4686</td><td>25/05/2024 16:01</td><td>25/05/2024 16:12</td><td>1.71665e+12</td><td>1.71665e+12</td></tr>\n",
       "\t<tr><td>⋮</td><td>⋮</td><td>⋮</td><td>⋮</td><td>⋮</td></tr>\n",
       "\t<tr><td>7a4686586d290c67179275c7c3dfb4ea02f4d317d9ee0e2cee98baa27877a875</td><td>01/07/2024 04:08</td><td>01/07/2024 04:19</td><td>1.71981e+12</td><td>1.71981e+12</td></tr>\n",
       "\t<tr><td>fd6563a4e0f6f4273580e5fedbd8dda64990447aea5a33cbb5e894a3867ca44d</td><td>28/07/2024 15:36</td><td>28/07/2024 15:57</td><td>1.72218e+12</td><td>1.72218e+12</td></tr>\n",
       "\t<tr><td>fd6563a4e0f6f4273580e5fedbd8dda64990447aea5a33cbb5e894a3867ca44d</td><td>25/07/2024 06:15</td><td>25/07/2024 06:22</td><td>1.72189e+12</td><td>1.72189e+12</td></tr>\n",
       "\t<tr><td>36d9cbb4c6bc0c1a6911436d2da0d09ec625e43e6552f575d4acc9cf487c4686</td><td>20/05/2024 02:26</td><td>20/05/2024 02:45</td><td>1.71617e+12</td><td>1.71617e+12</td></tr>\n",
       "</tbody>\n",
       "</table>\n"
      ],
      "text/latex": [
       "A spec\\_tbl\\_df: 1535 × 5\n",
       "\\begin{tabular}{lllll}\n",
       " hashedEmail & start\\_time & end\\_time & original\\_start\\_time & original\\_end\\_time\\\\\n",
       " <chr> & <chr> & <chr> & <dbl> & <dbl>\\\\\n",
       "\\hline\n",
       "\t bfce39c89d6549f2bb94d8064d3ce69dc3d7e72b38f431d8aa0c4bf95ccee6bf & 30/06/2024 18:12 & 30/06/2024 18:24 & 1.71977e+12 & 1.71977e+12\\\\\n",
       "\t 36d9cbb4c6bc0c1a6911436d2da0d09ec625e43e6552f575d4acc9cf487c4686 & 17/06/2024 23:33 & 17/06/2024 23:46 & 1.71867e+12 & 1.71867e+12\\\\\n",
       "\t f8f5477f5a2e53616ae37421b1c660b971192bd8ff77e3398304c7ae42581fdc & 25/07/2024 17:34 & 25/07/2024 17:57 & 1.72193e+12 & 1.72193e+12\\\\\n",
       "\t bfce39c89d6549f2bb94d8064d3ce69dc3d7e72b38f431d8aa0c4bf95ccee6bf & 25/07/2024 03:22 & 25/07/2024 03:58 & 1.72188e+12 & 1.72188e+12\\\\\n",
       "\t 36d9cbb4c6bc0c1a6911436d2da0d09ec625e43e6552f575d4acc9cf487c4686 & 25/05/2024 16:01 & 25/05/2024 16:12 & 1.71665e+12 & 1.71665e+12\\\\\n",
       "\t ⋮ & ⋮ & ⋮ & ⋮ & ⋮\\\\\n",
       "\t 7a4686586d290c67179275c7c3dfb4ea02f4d317d9ee0e2cee98baa27877a875 & 01/07/2024 04:08 & 01/07/2024 04:19 & 1.71981e+12 & 1.71981e+12\\\\\n",
       "\t fd6563a4e0f6f4273580e5fedbd8dda64990447aea5a33cbb5e894a3867ca44d & 28/07/2024 15:36 & 28/07/2024 15:57 & 1.72218e+12 & 1.72218e+12\\\\\n",
       "\t fd6563a4e0f6f4273580e5fedbd8dda64990447aea5a33cbb5e894a3867ca44d & 25/07/2024 06:15 & 25/07/2024 06:22 & 1.72189e+12 & 1.72189e+12\\\\\n",
       "\t 36d9cbb4c6bc0c1a6911436d2da0d09ec625e43e6552f575d4acc9cf487c4686 & 20/05/2024 02:26 & 20/05/2024 02:45 & 1.71617e+12 & 1.71617e+12\\\\\n",
       "\\end{tabular}\n"
      ],
      "text/markdown": [
       "\n",
       "A spec_tbl_df: 1535 × 5\n",
       "\n",
       "| hashedEmail &lt;chr&gt; | start_time &lt;chr&gt; | end_time &lt;chr&gt; | original_start_time &lt;dbl&gt; | original_end_time &lt;dbl&gt; |\n",
       "|---|---|---|---|---|\n",
       "| bfce39c89d6549f2bb94d8064d3ce69dc3d7e72b38f431d8aa0c4bf95ccee6bf | 30/06/2024 18:12 | 30/06/2024 18:24 | 1.71977e+12 | 1.71977e+12 |\n",
       "| 36d9cbb4c6bc0c1a6911436d2da0d09ec625e43e6552f575d4acc9cf487c4686 | 17/06/2024 23:33 | 17/06/2024 23:46 | 1.71867e+12 | 1.71867e+12 |\n",
       "| f8f5477f5a2e53616ae37421b1c660b971192bd8ff77e3398304c7ae42581fdc | 25/07/2024 17:34 | 25/07/2024 17:57 | 1.72193e+12 | 1.72193e+12 |\n",
       "| bfce39c89d6549f2bb94d8064d3ce69dc3d7e72b38f431d8aa0c4bf95ccee6bf | 25/07/2024 03:22 | 25/07/2024 03:58 | 1.72188e+12 | 1.72188e+12 |\n",
       "| 36d9cbb4c6bc0c1a6911436d2da0d09ec625e43e6552f575d4acc9cf487c4686 | 25/05/2024 16:01 | 25/05/2024 16:12 | 1.71665e+12 | 1.71665e+12 |\n",
       "| ⋮ | ⋮ | ⋮ | ⋮ | ⋮ |\n",
       "| 7a4686586d290c67179275c7c3dfb4ea02f4d317d9ee0e2cee98baa27877a875 | 01/07/2024 04:08 | 01/07/2024 04:19 | 1.71981e+12 | 1.71981e+12 |\n",
       "| fd6563a4e0f6f4273580e5fedbd8dda64990447aea5a33cbb5e894a3867ca44d | 28/07/2024 15:36 | 28/07/2024 15:57 | 1.72218e+12 | 1.72218e+12 |\n",
       "| fd6563a4e0f6f4273580e5fedbd8dda64990447aea5a33cbb5e894a3867ca44d | 25/07/2024 06:15 | 25/07/2024 06:22 | 1.72189e+12 | 1.72189e+12 |\n",
       "| 36d9cbb4c6bc0c1a6911436d2da0d09ec625e43e6552f575d4acc9cf487c4686 | 20/05/2024 02:26 | 20/05/2024 02:45 | 1.71617e+12 | 1.71617e+12 |\n",
       "\n"
      ],
      "text/plain": [
       "     hashedEmail                                                     \n",
       "1    bfce39c89d6549f2bb94d8064d3ce69dc3d7e72b38f431d8aa0c4bf95ccee6bf\n",
       "2    36d9cbb4c6bc0c1a6911436d2da0d09ec625e43e6552f575d4acc9cf487c4686\n",
       "3    f8f5477f5a2e53616ae37421b1c660b971192bd8ff77e3398304c7ae42581fdc\n",
       "4    bfce39c89d6549f2bb94d8064d3ce69dc3d7e72b38f431d8aa0c4bf95ccee6bf\n",
       "5    36d9cbb4c6bc0c1a6911436d2da0d09ec625e43e6552f575d4acc9cf487c4686\n",
       "⋮    ⋮                                                               \n",
       "1532 7a4686586d290c67179275c7c3dfb4ea02f4d317d9ee0e2cee98baa27877a875\n",
       "1533 fd6563a4e0f6f4273580e5fedbd8dda64990447aea5a33cbb5e894a3867ca44d\n",
       "1534 fd6563a4e0f6f4273580e5fedbd8dda64990447aea5a33cbb5e894a3867ca44d\n",
       "1535 36d9cbb4c6bc0c1a6911436d2da0d09ec625e43e6552f575d4acc9cf487c4686\n",
       "     start_time       end_time         original_start_time original_end_time\n",
       "1    30/06/2024 18:12 30/06/2024 18:24 1.71977e+12         1.71977e+12      \n",
       "2    17/06/2024 23:33 17/06/2024 23:46 1.71867e+12         1.71867e+12      \n",
       "3    25/07/2024 17:34 25/07/2024 17:57 1.72193e+12         1.72193e+12      \n",
       "4    25/07/2024 03:22 25/07/2024 03:58 1.72188e+12         1.72188e+12      \n",
       "5    25/05/2024 16:01 25/05/2024 16:12 1.71665e+12         1.71665e+12      \n",
       "⋮    ⋮                ⋮                ⋮                   ⋮                \n",
       "1532 01/07/2024 04:08 01/07/2024 04:19 1.71981e+12         1.71981e+12      \n",
       "1533 28/07/2024 15:36 28/07/2024 15:57 1.72218e+12         1.72218e+12      \n",
       "1534 25/07/2024 06:15 25/07/2024 06:22 1.72189e+12         1.72189e+12      \n",
       "1535 20/05/2024 02:26 20/05/2024 02:45 1.71617e+12         1.71617e+12      "
      ]
     },
     "metadata": {},
     "output_type": "display_data"
    }
   ],
   "source": [
    "url_players <- \"https://drive.google.com/uc?export=download&id=1Mw9vW0hjTJwRWx0bDXiSpYsO3gKogaPz\"\n",
    "url_sessions <- \"https://drive.google.com/uc?export=download&id=14O91N5OlVkvdGxXNJUj5jIsV5RexhzbB\"\n",
    "\n",
    "players_data <- read_csv(url_players)\n",
    "players_data\n",
    "\n",
    "sessions_data <- read_csv(url_sessions)\n",
    "sessions_data"
   ]
  },
  {
   "cell_type": "markdown",
   "id": "294ae536-1973-4ac6-b20e-8a6b3df01afb",
   "metadata": {},
   "source": [
    "This project involves two datasets: one containing personal information for all players in the game and another containing data about the individual play sessions for these players. To address the research question, the personal data from the first dataset will be used. As shown in the player's table above, the players dataset includes 196 observations across 9 variables.\n",
    "\n"
   ]
  },
  {
   "cell_type": "code",
   "execution_count": 31,
   "id": "18496342-493b-47e8-a3f5-56873109696b",
   "metadata": {
    "vscode": {
     "languageId": "r"
    }
   },
   "outputs": [
    {
     "data": {
      "text/html": [
       "<table class=\"dataframe\">\n",
       "<caption>A tibble: 9 × 4</caption>\n",
       "<thead>\n",
       "\t<tr><th scope=col>Variable_Name</th><th scope=col>Player_Data_Type</th><th scope=col>Variable_Interpretation</th><th scope=col>Variable_Examples</th></tr>\n",
       "\t<tr><th scope=col>&lt;chr&gt;</th><th scope=col>&lt;chr&gt;</th><th scope=col>&lt;chr&gt;</th><th scope=col>&lt;chr&gt;</th></tr>\n",
       "</thead>\n",
       "<tbody>\n",
       "\t<tr><td>experience      </td><td>character</td><td>Gaming level of experience                                              </td><td>Pro, Veteran, Amateur, Regular, Beginner                        </td></tr>\n",
       "\t<tr><td>subscribe       </td><td>logical  </td><td>Player's subscription status (TRUE = Subscribed, FALSE = Not Subscribed)</td><td>TRUE, FALSE                                                     </td></tr>\n",
       "\t<tr><td>hashedEmail     </td><td>character</td><td>Hashed version of individual's email address                            </td><td>f6daba428a5e19a3d47574858c13550499be23603422e6a0ee9728f8b53e192d</td></tr>\n",
       "\t<tr><td>played_hours    </td><td>double   </td><td>The number of hours the player has played                               </td><td>30.3, 0, 1.6                                                    </td></tr>\n",
       "\t<tr><td>name            </td><td>character</td><td>The name of the player                                                  </td><td>Morgan, Christian, Blake, Flora                                 </td></tr>\n",
       "\t<tr><td>gender          </td><td>character</td><td>The gender of the player                                                </td><td>Male, Female, Non-binary, Prefer not to say, Two Spirited       </td></tr>\n",
       "\t<tr><td>age             </td><td>double   </td><td>The age of the player                                                   </td><td>9, 17, 21, 25                                                   </td></tr>\n",
       "\t<tr><td>individualId    </td><td>logical  </td><td>A unique identifier for each player                                     </td><td>17, 21, 22, etc.                                                </td></tr>\n",
       "\t<tr><td>organizationName</td><td>logical  </td><td>Name of player's gaming organization                                    </td><td>empty                                                           </td></tr>\n",
       "</tbody>\n",
       "</table>\n"
      ],
      "text/latex": [
       "A tibble: 9 × 4\n",
       "\\begin{tabular}{llll}\n",
       " Variable\\_Name & Player\\_Data\\_Type & Variable\\_Interpretation & Variable\\_Examples\\\\\n",
       " <chr> & <chr> & <chr> & <chr>\\\\\n",
       "\\hline\n",
       "\t experience       & character & Gaming level of experience                                               & Pro, Veteran, Amateur, Regular, Beginner                        \\\\\n",
       "\t subscribe        & logical   & Player's subscription status (TRUE = Subscribed, FALSE = Not Subscribed) & TRUE, FALSE                                                     \\\\\n",
       "\t hashedEmail      & character & Hashed version of individual's email address                             & f6daba428a5e19a3d47574858c13550499be23603422e6a0ee9728f8b53e192d\\\\\n",
       "\t played\\_hours     & double    & The number of hours the player has played                                & 30.3, 0, 1.6                                                    \\\\\n",
       "\t name             & character & The name of the player                                                   & Morgan, Christian, Blake, Flora                                 \\\\\n",
       "\t gender           & character & The gender of the player                                                 & Male, Female, Non-binary, Prefer not to say, Two Spirited       \\\\\n",
       "\t age              & double    & The age of the player                                                    & 9, 17, 21, 25                                                   \\\\\n",
       "\t individualId     & logical   & A unique identifier for each player                                      & 17, 21, 22, etc.                                                \\\\\n",
       "\t organizationName & logical   & Name of player's gaming organization                                     & empty                                                           \\\\\n",
       "\\end{tabular}\n"
      ],
      "text/markdown": [
       "\n",
       "A tibble: 9 × 4\n",
       "\n",
       "| Variable_Name &lt;chr&gt; | Player_Data_Type &lt;chr&gt; | Variable_Interpretation &lt;chr&gt; | Variable_Examples &lt;chr&gt; |\n",
       "|---|---|---|---|\n",
       "| experience       | character | Gaming level of experience                                               | Pro, Veteran, Amateur, Regular, Beginner                         |\n",
       "| subscribe        | logical   | Player's subscription status (TRUE = Subscribed, FALSE = Not Subscribed) | TRUE, FALSE                                                      |\n",
       "| hashedEmail      | character | Hashed version of individual's email address                             | f6daba428a5e19a3d47574858c13550499be23603422e6a0ee9728f8b53e192d |\n",
       "| played_hours     | double    | The number of hours the player has played                                | 30.3, 0, 1.6                                                     |\n",
       "| name             | character | The name of the player                                                   | Morgan, Christian, Blake, Flora                                  |\n",
       "| gender           | character | The gender of the player                                                 | Male, Female, Non-binary, Prefer not to say, Two Spirited        |\n",
       "| age              | double    | The age of the player                                                    | 9, 17, 21, 25                                                    |\n",
       "| individualId     | logical   | A unique identifier for each player                                      | 17, 21, 22, etc.                                                 |\n",
       "| organizationName | logical   | Name of player's gaming organization                                     | empty                                                            |\n",
       "\n"
      ],
      "text/plain": [
       "  Variable_Name    Player_Data_Type\n",
       "1 experience       character       \n",
       "2 subscribe        logical         \n",
       "3 hashedEmail      character       \n",
       "4 played_hours     double          \n",
       "5 name             character       \n",
       "6 gender           character       \n",
       "7 age              double          \n",
       "8 individualId     logical         \n",
       "9 organizationName logical         \n",
       "  Variable_Interpretation                                                 \n",
       "1 Gaming level of experience                                              \n",
       "2 Player's subscription status (TRUE = Subscribed, FALSE = Not Subscribed)\n",
       "3 Hashed version of individual's email address                            \n",
       "4 The number of hours the player has played                               \n",
       "5 The name of the player                                                  \n",
       "6 The gender of the player                                                \n",
       "7 The age of the player                                                   \n",
       "8 A unique identifier for each player                                     \n",
       "9 Name of player's gaming organization                                    \n",
       "  Variable_Examples                                               \n",
       "1 Pro, Veteran, Amateur, Regular, Beginner                        \n",
       "2 TRUE, FALSE                                                     \n",
       "3 f6daba428a5e19a3d47574858c13550499be23603422e6a0ee9728f8b53e192d\n",
       "4 30.3, 0, 1.6                                                    \n",
       "5 Morgan, Christian, Blake, Flora                                 \n",
       "6 Male, Female, Non-binary, Prefer not to say, Two Spirited       \n",
       "7 9, 17, 21, 25                                                   \n",
       "8 17, 21, 22, etc.                                                \n",
       "9 empty                                                           "
      ]
     },
     "metadata": {},
     "output_type": "display_data"
    }
   ],
   "source": [
    "player_col_names <- colnames(players_data)\n",
    "player_variables <- tibble(Variable_Name = player_col_names)\n",
    "player_variables_types <- c(\"character\", \"logical\", \"character\", \"double\", \"character\", \"character\", \"double\", \"logical\", \"logical\") \n",
    "player_variables_interp <- c(\"Gaming level of experience\",\n",
    "                             \"Player's subscription status (TRUE = Subscribed, FALSE = Not Subscribed)\",\n",
    "                             \"Hashed version of individual's email address\",\n",
    "                             \"The number of hours the player has played\",\n",
    "                             \"The name of the player\",\n",
    "                             \"The gender of the player\",\n",
    "                             \"The age of the player\",\n",
    "                             \"A unique identifier for each player\",\n",
    "                             \"Name of player's gaming organization\")\n",
    "player_variables_example <- c(\"Pro, Veteran, Amateur, Regular, Beginner\",\n",
    "                              \"TRUE, FALSE\",\n",
    "                              \"f6daba428a5e19a3d47574858c13550499be23603422e6a0ee9728f8b53e192d\",\n",
    "                              \"30.3, 0, 1.6\",\n",
    "                              \"Morgan, Christian, Blake, Flora\",\n",
    "                              \"Male, Female, Non-binary, Prefer not to say, Two Spirited\",\n",
    "                              \"9, 17, 21, 25\",\n",
    "                              \"17, 21, 22, etc.\",\n",
    "                              \"empty\")\n",
    "\n",
    "player_variables <- player_variables |>\n",
    "                        mutate(Player_Data_Type = player_variables_types) |>\n",
    "                        mutate(Variable_Interpretation = player_variables_interp) |>\n",
    "                        mutate(Variable_Examples = player_variables_example)\n",
    "player_variables\n",
    "\n",
    "\n",
    "           "
   ]
  },
  {
   "cell_type": "markdown",
   "id": "7f6cc6eb-f278-46fe-ad4d-62270ab9be81",
   "metadata": {},
   "source": [
    "# Methods & Results"
   ]
  },
  {
   "cell_type": "markdown",
   "id": "f99f2509-1677-44fa-9e1f-531e13e2f57b",
   "metadata": {},
   "source": [
    "First we will load the players dataset and wrangle the data file by selecting the `experience` and `played_hours` columns. Then, we will change the `experience` data type into a categorical variable."
   ]
  },
  {
   "cell_type": "code",
   "execution_count": 32,
   "id": "51677c82-a6ab-49c6-9f8b-810788104b2f",
   "metadata": {
    "vscode": {
     "languageId": "r"
    }
   },
   "outputs": [
    {
     "name": "stderr",
     "output_type": "stream",
     "text": [
      "\u001b[1mRows: \u001b[22m\u001b[34m196\u001b[39m \u001b[1mColumns: \u001b[22m\u001b[34m9\u001b[39m\n",
      "\u001b[36m──\u001b[39m \u001b[1mColumn specification\u001b[22m \u001b[36m────────────────────────────────────────────────────────\u001b[39m\n",
      "\u001b[1mDelimiter:\u001b[22m \",\"\n",
      "\u001b[31mchr\u001b[39m (4): experience, hashedEmail, name, gender\n",
      "\u001b[32mdbl\u001b[39m (2): played_hours, age\n",
      "\u001b[33mlgl\u001b[39m (3): subscribe, individualId, organizationName\n",
      "\n",
      "\u001b[36mℹ\u001b[39m Use `spec()` to retrieve the full column specification for this data.\n",
      "\u001b[36mℹ\u001b[39m Specify the column types or set `show_col_types = FALSE` to quiet this message.\n"
     ]
    },
    {
     "data": {
      "text/html": [
       "<table class=\"dataframe\">\n",
       "<caption>A tibble: 6 × 2</caption>\n",
       "<thead>\n",
       "\t<tr><th scope=col>experience</th><th scope=col>played_hours</th></tr>\n",
       "\t<tr><th scope=col>&lt;fct&gt;</th><th scope=col>&lt;dbl&gt;</th></tr>\n",
       "</thead>\n",
       "<tbody>\n",
       "\t<tr><td>Pro    </td><td>30.3</td></tr>\n",
       "\t<tr><td>Veteran</td><td> 3.8</td></tr>\n",
       "\t<tr><td>Veteran</td><td> 0.0</td></tr>\n",
       "\t<tr><td>Amateur</td><td> 0.7</td></tr>\n",
       "\t<tr><td>Regular</td><td> 0.1</td></tr>\n",
       "\t<tr><td>Amateur</td><td> 0.0</td></tr>\n",
       "</tbody>\n",
       "</table>\n"
      ],
      "text/latex": [
       "A tibble: 6 × 2\n",
       "\\begin{tabular}{ll}\n",
       " experience & played\\_hours\\\\\n",
       " <fct> & <dbl>\\\\\n",
       "\\hline\n",
       "\t Pro     & 30.3\\\\\n",
       "\t Veteran &  3.8\\\\\n",
       "\t Veteran &  0.0\\\\\n",
       "\t Amateur &  0.7\\\\\n",
       "\t Regular &  0.1\\\\\n",
       "\t Amateur &  0.0\\\\\n",
       "\\end{tabular}\n"
      ],
      "text/markdown": [
       "\n",
       "A tibble: 6 × 2\n",
       "\n",
       "| experience &lt;fct&gt; | played_hours &lt;dbl&gt; |\n",
       "|---|---|\n",
       "| Pro     | 30.3 |\n",
       "| Veteran |  3.8 |\n",
       "| Veteran |  0.0 |\n",
       "| Amateur |  0.7 |\n",
       "| Regular |  0.1 |\n",
       "| Amateur |  0.0 |\n",
       "\n"
      ],
      "text/plain": [
       "  experience played_hours\n",
       "1 Pro        30.3        \n",
       "2 Veteran     3.8        \n",
       "3 Veteran     0.0        \n",
       "4 Amateur     0.7        \n",
       "5 Regular     0.1        \n",
       "6 Amateur     0.0        "
      ]
     },
     "metadata": {},
     "output_type": "display_data"
    }
   ],
   "source": [
    "library(tidyverse)\n",
    "\n",
    "url <- \"https://drive.google.com/uc?export=download&id=1Mw9vW0hjTJwRWx0bDXiSpYsO3gKogaPz\"\n",
    "players <- read_csv(url) |>\n",
    "    select(experience, played_hours) |>\n",
    "    mutate(experience = as.factor(experience))\n",
    "\n",
    "head(players)"
   ]
  },
  {
   "cell_type": "markdown",
   "id": "fc1d73c6-4016-4e86-bf7e-f55f4a6f5d4c",
   "metadata": {},
   "source": [
    "We create a new data set to compute the average total hours played across every experience levels using `group_by` and `summarize`, then visualize the relationship between the experience level and the average total hours played using a barplot to explore the two variables' relationship."
   ]
  },
  {
   "cell_type": "code",
   "execution_count": 33,
   "id": "d8fffb5b-0d6a-4b0a-bdc2-f617e2526d2e",
   "metadata": {
    "vscode": {
     "languageId": "r"
    }
   },
   "outputs": [
    {
     "data": {
      "text/html": [
       "<table class=\"dataframe\">\n",
       "<caption>A tibble: 5 × 2</caption>\n",
       "<thead>\n",
       "\t<tr><th scope=col>experience</th><th scope=col>played_hours</th></tr>\n",
       "\t<tr><th scope=col>&lt;fct&gt;</th><th scope=col>&lt;dbl&gt;</th></tr>\n",
       "</thead>\n",
       "<tbody>\n",
       "\t<tr><td>Amateur </td><td> 6.0174603</td></tr>\n",
       "\t<tr><td>Beginner</td><td> 1.2485714</td></tr>\n",
       "\t<tr><td>Pro     </td><td> 2.6000000</td></tr>\n",
       "\t<tr><td>Regular </td><td>18.2083333</td></tr>\n",
       "\t<tr><td>Veteran </td><td> 0.6479167</td></tr>\n",
       "</tbody>\n",
       "</table>\n"
      ],
      "text/latex": [
       "A tibble: 5 × 2\n",
       "\\begin{tabular}{ll}\n",
       " experience & played\\_hours\\\\\n",
       " <fct> & <dbl>\\\\\n",
       "\\hline\n",
       "\t Amateur  &  6.0174603\\\\\n",
       "\t Beginner &  1.2485714\\\\\n",
       "\t Pro      &  2.6000000\\\\\n",
       "\t Regular  & 18.2083333\\\\\n",
       "\t Veteran  &  0.6479167\\\\\n",
       "\\end{tabular}\n"
      ],
      "text/markdown": [
       "\n",
       "A tibble: 5 × 2\n",
       "\n",
       "| experience &lt;fct&gt; | played_hours &lt;dbl&gt; |\n",
       "|---|---|\n",
       "| Amateur  |  6.0174603 |\n",
       "| Beginner |  1.2485714 |\n",
       "| Pro      |  2.6000000 |\n",
       "| Regular  | 18.2083333 |\n",
       "| Veteran  |  0.6479167 |\n",
       "\n"
      ],
      "text/plain": [
       "  experience played_hours\n",
       "1 Amateur     6.0174603  \n",
       "2 Beginner    1.2485714  \n",
       "3 Pro         2.6000000  \n",
       "4 Regular    18.2083333  \n",
       "5 Veteran     0.6479167  "
      ]
     },
     "metadata": {},
     "output_type": "display_data"
    },
    {
     "name": "stderr",
     "output_type": "stream",
     "text": [
      "\u001b[1m\u001b[22mNo summary function supplied, defaulting to `mean_se()`\n"
     ]
    },
    {
     "data": {
      "image/png": "[encoded data removed]",
      "text/plain": [
       "plot without title"
      ]
     },
     "metadata": {
      "image/png": {
       "height": 360,
       "width": 480
      }
     },
     "output_type": "display_data"
    }
   ],
   "source": [
    "options(repr.plot.width = 8, repr.plot.height = 6)\n",
    "\n",
    "players_mean <- players |>\n",
    "    group_by(experience) |>\n",
    "    summarize(played_hours = mean(played_hours)) |>\n",
    "    mutate(experience = factor(experience, levels = c(\"Amateur\", \"Beginner\", \"Regular\", \"Pro\", \"Veteran\")))\n",
    "\n",
    "players_mean\n",
    "              \n",
    "players_explore_plot <- ggplot(players_mean, aes(x = experience, y = played_hours, fill = experience)) +\n",
    "    geom_bar(stat = \"summary\", color = \"black\") +\n",
    "    labs(title = \"Average Total Hours Played by Experience Level\",\n",
    "         x = \"Experience Level\",\n",
    "         y = \"Average Total Hours Played (hours)\",\n",
    "        fill = \"Experience Level\") +\n",
    "    theme_minimal() +\n",
    "    scale_fill_brewer(palette = \"Set2\") +\n",
    "    theme(text = element_text(size = 14))\n",
    "players_explore_plot"
   ]
  },
  {
   "cell_type": "markdown",
   "id": "f1214e17-72d7-4a5c-83c5-5bc2af6af0d0",
   "metadata": {},
   "source": [
    "We decided to use K-nearest neighbor regression, because the value that the proposal question is trying to predict is a numerical value. Comparing between knn regression and linear regression, because the knn regression works well with non-linear relationship, it would be more ideal to use knn regression because the visualizations suggest that these variables might not have a linear relationship. \n",
    "\n",
    "Because we're using K-nn regression, every variable must be a numerical value for the model to predict, which means we have to change any categorial data type into numerical by encoding them to perform K-nn regression. In this case, the `experience` column is the categorical variable that needs to be encoded. We'll add a new column encoding the experience variable, in which 1 means an Amateur, 2 means a Beginner, 3 means a Regular, 4 means a Pro, and 5 means a Veteran. This column will be called `encoded_experience`"
   ]
  },
  {
   "cell_type": "code",
   "execution_count": 34,
   "id": "e02e1cd1-c7e4-42c7-9bc7-5164269f2539",
   "metadata": {
    "vscode": {
     "languageId": "r"
    }
   },
   "outputs": [
    {
     "data": {
      "text/html": [
       "<table class=\"dataframe\">\n",
       "<caption>A tibble: 6 × 3</caption>\n",
       "<thead>\n",
       "\t<tr><th scope=col>experience</th><th scope=col>played_hours</th><th scope=col>encoded_experience</th></tr>\n",
       "\t<tr><th scope=col>&lt;fct&gt;</th><th scope=col>&lt;dbl&gt;</th><th scope=col>&lt;dbl&gt;</th></tr>\n",
       "</thead>\n",
       "<tbody>\n",
       "\t<tr><td>Pro    </td><td>30.3</td><td>4</td></tr>\n",
       "\t<tr><td>Veteran</td><td> 3.8</td><td>5</td></tr>\n",
       "\t<tr><td>Veteran</td><td> 0.0</td><td>5</td></tr>\n",
       "\t<tr><td>Amateur</td><td> 0.7</td><td>1</td></tr>\n",
       "\t<tr><td>Regular</td><td> 0.1</td><td>3</td></tr>\n",
       "\t<tr><td>Amateur</td><td> 0.0</td><td>1</td></tr>\n",
       "</tbody>\n",
       "</table>\n"
      ],
      "text/latex": [
       "A tibble: 6 × 3\n",
       "\\begin{tabular}{lll}\n",
       " experience & played\\_hours & encoded\\_experience\\\\\n",
       " <fct> & <dbl> & <dbl>\\\\\n",
       "\\hline\n",
       "\t Pro     & 30.3 & 4\\\\\n",
       "\t Veteran &  3.8 & 5\\\\\n",
       "\t Veteran &  0.0 & 5\\\\\n",
       "\t Amateur &  0.7 & 1\\\\\n",
       "\t Regular &  0.1 & 3\\\\\n",
       "\t Amateur &  0.0 & 1\\\\\n",
       "\\end{tabular}\n"
      ],
      "text/markdown": [
       "\n",
       "A tibble: 6 × 3\n",
       "\n",
       "| experience &lt;fct&gt; | played_hours &lt;dbl&gt; | encoded_experience &lt;dbl&gt; |\n",
       "|---|---|---|\n",
       "| Pro     | 30.3 | 4 |\n",
       "| Veteran |  3.8 | 5 |\n",
       "| Veteran |  0.0 | 5 |\n",
       "| Amateur |  0.7 | 1 |\n",
       "| Regular |  0.1 | 3 |\n",
       "| Amateur |  0.0 | 1 |\n",
       "\n"
      ],
      "text/plain": [
       "  experience played_hours encoded_experience\n",
       "1 Pro        30.3         4                 \n",
       "2 Veteran     3.8         5                 \n",
       "3 Veteran     0.0         5                 \n",
       "4 Amateur     0.7         1                 \n",
       "5 Regular     0.1         3                 \n",
       "6 Amateur     0.0         1                 "
      ]
     },
     "metadata": {},
     "output_type": "display_data"
    }
   ],
   "source": [
    "players_encoded <- players |>\n",
    "    mutate(encoded_experience = case_when(\n",
    "        experience == \"Amateur\" ~ 1,\n",
    "        experience == \"Beginner\" ~ 2,\n",
    "        experience == \"Regular\" ~ 3,\n",
    "        experience == \"Pro\" ~ 4,\n",
    "        experience == \"Veteran\" ~ 5)) \n",
    "\n",
    "head(players_encoded)"
   ]
  },
  {
   "cell_type": "markdown",
   "id": "205ed8fc-30c4-4a2c-8291-df2fa3bdb23a",
   "metadata": {},
   "source": [
    "Next, we split the data into two sets, a training and testing dataset of 75% and 25% respectively. We set the seed to 1 to make the random splits reproducible."
   ]
  },
  {
   "cell_type": "code",
   "execution_count": 35,
   "id": "bc71cc31-8590-4933-9380-606b7440ac5c",
   "metadata": {
    "vscode": {
     "languageId": "r"
    }
   },
   "outputs": [],
   "source": [
    "library(tidymodels)\n",
    "library(gridExtra)\n",
    "\n",
    "set.seed(1)\n",
    "\n",
    "players_split <- initial_split(players_encoded, prop = 0.75, strata = played_hours)\n",
    "players_training <- training(players_split)\n",
    "players_testing <- testing(players_split)"
   ]
  },
  {
   "cell_type": "markdown",
   "id": "b4b2ae90-d039-4daf-9d0a-07963444fa5d",
   "metadata": {},
   "source": [
    "We perform a 5-fold cross-validation to choose the optimal *K* value for our model by running a cross-validation for a grid of neighbours ranging from 1 to 50, then pick out the *K* that produces the smallest RMSPE value."
   ]
  },
  {
   "cell_type": "code",
   "execution_count": 36,
   "id": "11cfcc77-c15b-4a75-9b6e-83e4ea8b792d",
   "metadata": {
    "vscode": {
     "languageId": "r"
    }
   },
   "outputs": [
    {
     "data": {
      "text/html": [
       "40"
      ],
      "text/latex": [
       "40"
      ],
      "text/markdown": [
       "40"
      ],
      "text/plain": [
       "[1] 40"
      ]
     },
     "metadata": {},
     "output_type": "display_data"
    }
   ],
   "source": [
    "players_recipe <- recipe(played_hours ~ encoded_experience, data = players_training) |>\n",
    "    step_scale(all_predictors()) |>\n",
    "    step_center(all_predictors())\n",
    "\n",
    "players_spec <- nearest_neighbor(weight_func = \"rectangular\", neighbors = tune()) |>\n",
    "    set_engine(\"kknn\") |>\n",
    "    set_mode(\"regression\")\n",
    "\n",
    "players_vfold <- vfold_cv(players_training, v = 5, strata = played_hours)\n",
    "\n",
    "players_wkflw <- workflow() |>\n",
    "    add_recipe(players_recipe) |>\n",
    "    add_model(players_spec)\n",
    "\n",
    "gridvals <- tibble(neighbors = seq(1:50))\n",
    "\n",
    "players_result <- players_wkflw |>\n",
    "    tune_grid(resamples = players_vfold, grid = gridvals) |>\n",
    "    collect_metrics() |>\n",
    "    filter(.metric == \"rmse\")\n",
    "\n",
    "players_min <- players_result |>\n",
    "    filter(mean == min(mean)) |>\n",
    "    pull(neighbors)\n",
    "\n",
    "players_min"
   ]
  },
  {
   "cell_type": "markdown",
   "id": "2fa280c8-3528-4d09-b41a-4480e39dbc79",
   "metadata": {},
   "source": [
    "The smallest RMSPE occurs when *K* = players_min. We use this *K* value to make predictions on the test data to answer the proposal question."
   ]
  },
  {
   "cell_type": "code",
   "execution_count": 37,
   "id": "b4a71f81-bea7-4889-b9ec-7143a2816be1",
   "metadata": {
    "vscode": {
     "languageId": "r"
    }
   },
   "outputs": [
    {
     "data": {
      "text/html": [
       "<table class=\"dataframe\">\n",
       "<caption>A tibble: 1 × 3</caption>\n",
       "<thead>\n",
       "\t<tr><th scope=col>.metric</th><th scope=col>.estimator</th><th scope=col>.estimate</th></tr>\n",
       "\t<tr><th scope=col>&lt;chr&gt;</th><th scope=col>&lt;chr&gt;</th><th scope=col>&lt;dbl&gt;</th></tr>\n",
       "</thead>\n",
       "<tbody>\n",
       "\t<tr><td>rmse</td><td>standard</td><td>9.946699</td></tr>\n",
       "</tbody>\n",
       "</table>\n"
      ],
      "text/latex": [
       "A tibble: 1 × 3\n",
       "\\begin{tabular}{lll}\n",
       " .metric & .estimator & .estimate\\\\\n",
       " <chr> & <chr> & <dbl>\\\\\n",
       "\\hline\n",
       "\t rmse & standard & 9.946699\\\\\n",
       "\\end{tabular}\n"
      ],
      "text/markdown": [
       "\n",
       "A tibble: 1 × 3\n",
       "\n",
       "| .metric &lt;chr&gt; | .estimator &lt;chr&gt; | .estimate &lt;dbl&gt; |\n",
       "|---|---|---|\n",
       "| rmse | standard | 9.946699 |\n",
       "\n"
      ],
      "text/plain": [
       "  .metric .estimator .estimate\n",
       "1 rmse    standard   9.946699 "
      ]
     },
     "metadata": {},
     "output_type": "display_data"
    }
   ],
   "source": [
    "players_spec <- nearest_neighbor(weight_func = \"rectangular\", neighbors = players_min) |>\n",
    "    set_engine(\"kknn\") |>\n",
    "    set_mode(\"regression\")\n",
    "\n",
    "players_fit <- workflow() |>\n",
    "    add_recipe(players_recipe) |>\n",
    "    add_model(players_spec) |>\n",
    "    fit(data = players_training) \n",
    "\n",
    "players_summary <- players_fit |>\n",
    "    predict(players_testing) |>\n",
    "    bind_cols(players_testing) |>\n",
    "    metrics(truth = played_hours, estimate = .pred) |>\n",
    "    filter(.metric == \"rmse\")\n",
    "\n",
    "players_summary"
   ]
  },
  {
   "cell_type": "markdown",
   "id": "37a55b57-ac47-4392-8e56-c9bc394fe08e",
   "metadata": {},
   "source": [
    "We do some more data wrangling in order to create the plot to evaluate our model further. As we are only trying to find which type of players would contribute to the most amount of data (highest `played_hours`) and not trying to compare the prediction with any individual value, we decided to compare the prediction to the mean playing time for each experience level in the testing dataset. \n",
    "\n",
    "The bars in our plot indicate the true mean value, and the points in our plot indicate the predicted value. We decided to scale the y-axis to see the difference in our predictions more clearly."
   ]
  },
  {
   "cell_type": "code",
   "execution_count": 38,
   "id": "fecacaec-8ce8-4201-b3b7-7bbeefd0ae31",
   "metadata": {
    "vscode": {
     "languageId": "r"
    }
   },
   "outputs": [
    {
     "data": {
      "text/html": [
       "<table class=\"dataframe\">\n",
       "<caption>A tibble: 5 × 3</caption>\n",
       "<thead>\n",
       "\t<tr><th scope=col>experience</th><th scope=col>played_hours</th><th scope=col>.pred</th></tr>\n",
       "\t<tr><th scope=col>&lt;fct&gt;</th><th scope=col>&lt;dbl&gt;</th><th scope=col>&lt;dbl&gt;</th></tr>\n",
       "</thead>\n",
       "<tbody>\n",
       "\t<tr><td>Amateur </td><td>2.34117647</td><td> 5.5675</td></tr>\n",
       "\t<tr><td>Beginner</td><td>0.43750000</td><td> 1.0200</td></tr>\n",
       "\t<tr><td>Pro     </td><td>0.03333333</td><td>16.8950</td></tr>\n",
       "\t<tr><td>Regular </td><td>1.34166667</td><td>16.8925</td></tr>\n",
       "\t<tr><td>Veteran </td><td>0.06000000</td><td> 1.5325</td></tr>\n",
       "</tbody>\n",
       "</table>\n"
      ],
      "text/latex": [
       "A tibble: 5 × 3\n",
       "\\begin{tabular}{lll}\n",
       " experience & played\\_hours & .pred\\\\\n",
       " <fct> & <dbl> & <dbl>\\\\\n",
       "\\hline\n",
       "\t Amateur  & 2.34117647 &  5.5675\\\\\n",
       "\t Beginner & 0.43750000 &  1.0200\\\\\n",
       "\t Pro      & 0.03333333 & 16.8950\\\\\n",
       "\t Regular  & 1.34166667 & 16.8925\\\\\n",
       "\t Veteran  & 0.06000000 &  1.5325\\\\\n",
       "\\end{tabular}\n"
      ],
      "text/markdown": [
       "\n",
       "A tibble: 5 × 3\n",
       "\n",
       "| experience &lt;fct&gt; | played_hours &lt;dbl&gt; | .pred &lt;dbl&gt; |\n",
       "|---|---|---|\n",
       "| Amateur  | 2.34117647 |  5.5675 |\n",
       "| Beginner | 0.43750000 |  1.0200 |\n",
       "| Pro      | 0.03333333 | 16.8950 |\n",
       "| Regular  | 1.34166667 | 16.8925 |\n",
       "| Veteran  | 0.06000000 |  1.5325 |\n",
       "\n"
      ],
      "text/plain": [
       "  experience played_hours .pred  \n",
       "1 Amateur    2.34117647    5.5675\n",
       "2 Beginner   0.43750000    1.0200\n",
       "3 Pro        0.03333333   16.8950\n",
       "4 Regular    1.34166667   16.8925\n",
       "5 Veteran    0.06000000    1.5325"
      ]
     },
     "metadata": {},
     "output_type": "display_data"
    },
    {
     "name": "stderr",
     "output_type": "stream",
     "text": [
      "\u001b[1m\u001b[22mNo summary function supplied, defaulting to `mean_se()`\n"
     ]
    },
    {
     "data": {
      "image/png": "[encoded data removed]",
      "text/plain": [
       "plot without title"
      ]
     },
     "metadata": {
      "image/png": {
       "height": 360,
       "width": 540
      }
     },
     "output_type": "display_data"
    }
   ],
   "source": [
    "players_values <- players_fit |>\n",
    "    predict(players_testing) |>\n",
    "    bind_cols(players_testing) |>\n",
    "    group_by(experience) |>\n",
    "    summarize(played_hours = mean(played_hours),\n",
    "             .pred = mean(.pred)) |>\n",
    "    mutate(experience = factor(experience, levels = c(\"Amateur\", \"Beginner\", \"Regular\", \"Pro\", \"Veteran\")))\n",
    "\n",
    "players_values\n",
    "\n",
    "options(repr.plot.width = 9, repr.plot.height = 6)\n",
    "\n",
    "players_prediction_plot <- ggplot(players_values, aes(x = experience, y = played_hours, fill = experience)) +\n",
    "    geom_bar(stat = \"summary\", color = \"black\") +\n",
    "    geom_point(aes(y = .pred), size = 3) +\n",
    "\n",
    "    labs(title = \"Comparison of Predicted and Actual Played Hours Across Experience Levels\",\n",
    "         x = \"Experience Level\", \n",
    "         y = \"Average Total Hours Played (hours)\",\n",
    "        fill = \"Experience Level\") +\n",
    "    theme_minimal() +\n",
    "    scale_fill_brewer(palette = \"Set2\") +\n",
    "    theme(text = element_text(size = 14))\n",
    "    \n",
    "players_prediction_plot"
   ]
  },
  {
   "cell_type": "markdown",
   "id": "36768832-ce23-4686-8322-b2ce140c2530",
   "metadata": {},
   "source": [
    "# Discussion"
   ]
  },
  {
   "cell_type": "markdown",
   "id": "283863ca-877b-4fc6-a9a1-3dc708f7e0db",
   "metadata": {},
   "source": [
    "As depicted by the bar graphs representing the actual total average number of hours played by each experience level, it was found that those under the \"Amateur\" experience level played the most hours on average, with the \"Regular\" experience level following in second in the testing dataset. The experience level with the lowest average total number of hours was found to be the \"Pro\" level in the testing dataset. \n",
    "\n",
    "Then, upon performing Knn regression, the model determined that \"Pro\" players had the highest average total hours played, with \"Regular\" coming in at second place. The experience level with the lowest predicted value was the \"Beginner\". This is in contrast to the observed trend in the testing dataset, where \"Pro\" logged the least hours. \n",
    "\n",
    "The RMSPE for this model is around 9.9 hours, which is not a lot in context of the goal of collection 10,000 hours of Minecraft gameplay. However, putting it in context of one player, 9.9 hours could be a significant difference.\n",
    "\n",
    "The overall results were partially expected but also contained some surprises. The small dataset accounts for the fact that the model cannot split the training and testing data reasonably. This explains why the testing dataset's average total playtime hours or the prediction from the KNN regression model doesn't reflect the entire dataset accordingly. \n",
    "\n",
    "This shift in the prediction could also be due to the tendency of the KNN model to weigh the influence of neighboring data points heavily. The \"Pro\" players might have consistent playtime patterns that are captured well by the model while \"Amateurs\" could be more variable in their engagement with the game, possibly leading to fewer total hours on average despite their potential for longer individual play sessions. The difference between actual and predicted hours for the \"Amateur\" experience level suggests that there are complex patterns in player behavior that are not fully captured by the model, or that there might be factors like inconsistent playing habits or interruptions in play that impact their total hours.\n",
    "\n",
    "The actual data analysis for the whole dataset showed that \"Regular\" logged the highest average total hours played. This suggests that recruiting \"Regular\" may lead to a strong inflow of data, as they are likely to spend considerable time exploring and engaging with the game. However, the KNN regression model, which predicted that \"Pro\" players would contribute the highest total hours, points to the possibility that these advanced players engage in more consistent and potentially data-rich activities. \n",
    "\n",
    "Based on what we found with our model, the answer to our proposal question is: **Experience level cannot predict the total number of hours played given this dataset**. The differences between actual and predicted hours means the targets for recruitment remain unclear. This raise several further questions of whether or not we could have done something different for the model to be more precise, for example adding predictors or setting other seeds to find more \"suitable random splits\". However, something fundamental that should be tackled other than prediction methods is the collection of new data. Most of the predictive model's issues were due to the fact that the given dataset was too small, which accounts for the model's imprecision. We believe applying similar proposed methods in this project onto a bigger dataset would churn out more ideal results. "
   ]
  }
 ],
 "metadata": {
  "kernelspec": {
   "display_name": "R",
   "language": "R",
   "name": "ir"
  },
  "language_info": {
   "codemirror_mode": "r",
   "file_extension": ".r",
   "mimetype": "text/x-r-source",
   "name": "R",
   "pygments_lexer": "r",
   "version": "4.5.1"
  }
 },
 "nbformat": 4,
 "nbformat_minor": 5
}
